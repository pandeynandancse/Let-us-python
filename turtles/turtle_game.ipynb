{
 "cells": [
  {
   "cell_type": "code",
   "execution_count": 131,
   "metadata": {},
   "outputs": [],
   "source": [
    "import turtle\n",
    "import time\n",
    "from random import randint\n",
    "window = turtle.Screen()\n",
    "window.title(\"tutle race\")\n"
   ]
  },
  {
   "cell_type": "code",
   "execution_count": 132,
   "metadata": {},
   "outputs": [],
   "source": [
    "turtle.bgcolor(\"forestgreen\")\n",
    "turtle.color(\"white\")\n",
    "turtle.speed(0)\n",
    "turtle.penup()\n",
    "turtle.setpos(-140,200)\n",
    "turtle.write(\"turtle race\",font = (\"Arial\",30,\"bold\"))\n",
    "turtle.penup()\n"
   ]
  },
  {
   "cell_type": "code",
   "execution_count": null,
   "metadata": {},
   "outputs": [],
   "source": [
    "turtle.setpos(-400,-180)\n",
    "turtle.color(\"chocolate\")\n",
    "turtle.begin_fill()\n",
    "turtle.pendown()\n",
    "turtle.forward(800)\n",
    "turtle.right(90)\n",
    "turtle.forward(300)\n",
    "turtle.right(90)\n",
    "turtle.forward(800)\n",
    "turtle.right(90)\n",
    "turtle.forward(300)\n",
    "turtle.end_fill()\n"
   ]
  },
  {
   "cell_type": "code",
   "execution_count": 133,
   "metadata": {},
   "outputs": [],
   "source": [
    "stamp_size=20\n",
    "square_size=15\n",
    "finish_line=200\n"
   ]
  },
  {
   "cell_type": "code",
   "execution_count": 134,
   "metadata": {},
   "outputs": [],
   "source": [
    "turtle.color(\"black\")\n",
    "turtle.shape(\"square\")\n",
    "turtle.shapesize(square_size/stamp_size)\n",
    "turtle.penup()\n",
    "\n"
   ]
  },
  {
   "cell_type": "code",
   "execution_count": 135,
   "metadata": {},
   "outputs": [],
   "source": [
    "for i in range(10):\n",
    "    turtle.setpos(finish_line,(150-(i*square_size * 2)))\n",
    "    turtle.stamp()\n",
    "    "
   ]
  },
  {
   "cell_type": "code",
   "execution_count": 136,
   "metadata": {},
   "outputs": [],
   "source": [
    "for j in range(10):\n",
    "    turtle.setpos(finish_line + square_size,((150-square_size )-(j*square_size * 2)))\n",
    "    turtle.stamp()"
   ]
  },
  {
   "cell_type": "code",
   "execution_count": 137,
   "metadata": {},
   "outputs": [],
   "source": [
    "turtle1 = turtle.Turtle()\n",
    "turtle1.speed(0)\n",
    "turtle1.color(\"black\")\n",
    "turtle1.shape(\"turtle\")\n",
    "turtle1.penup()\n",
    "turtle1.goto(-250,100)\n",
    "turtle1.pendown()\n"
   ]
  },
  {
   "cell_type": "code",
   "execution_count": 138,
   "metadata": {},
   "outputs": [],
   "source": [
    "turtle2 = turtle.Turtle()\n",
    "turtle2.speed(0)\n",
    "turtle2.color(\"cyan\")\n",
    "turtle2.shape(\"turtle\")\n",
    "turtle2.penup()\n",
    "turtle2.goto(-250,50)\n",
    "turtle2.pendown()\n"
   ]
  },
  {
   "cell_type": "code",
   "execution_count": 139,
   "metadata": {},
   "outputs": [],
   "source": [
    "turtle3 = turtle.Turtle()\n",
    "turtle3.speed(0)\n",
    "turtle3.color(\"magenta\")\n",
    "turtle3.shape(\"turtle\")\n",
    "turtle3.penup()\n",
    "turtle3.goto(-250,0)\n",
    "turtle3.pendown()\n"
   ]
  },
  {
   "cell_type": "code",
   "execution_count": 140,
   "metadata": {},
   "outputs": [],
   "source": [
    "turtle4 = turtle.Turtle()\n",
    "turtle4.speed(0)\n",
    "turtle4.color(\"yellow\")\n",
    "turtle4.shape(\"turtle\")\n",
    "turtle4.penup()\n",
    "turtle4.goto(-250,-50)\n",
    "turtle4.pendown()\n"
   ]
  },
  {
   "cell_type": "code",
   "execution_count": 141,
   "metadata": {},
   "outputs": [],
   "source": [
    "time.sleep(1)"
   ]
  },
  {
   "cell_type": "code",
   "execution_count": null,
   "metadata": {},
   "outputs": [],
   "source": [
    "for i in range(145):\n",
    "    turtle1.forward(1)\n",
    "    turtle2.forward(2)\n",
    "    turtle3.forward(2)\n",
    "    turtle4.forward(3)\n",
    "turtle.exitonclick()"
   ]
  },
  {
   "cell_type": "code",
   "execution_count": null,
   "metadata": {},
   "outputs": [],
   "source": []
  },
  {
   "cell_type": "code",
   "execution_count": null,
   "metadata": {},
   "outputs": [],
   "source": []
  }
 ],
 "metadata": {
  "kernelspec": {
   "display_name": "Python 3",
   "language": "python",
   "name": "python3"
  },
  "language_info": {
   "codemirror_mode": {
    "name": "ipython",
    "version": 3
   },
   "file_extension": ".py",
   "mimetype": "text/x-python",
   "name": "python",
   "nbconvert_exporter": "python",
   "pygments_lexer": "ipython3",
   "version": "3.7.0"
  }
 },
 "nbformat": 4,
 "nbformat_minor": 2
}
